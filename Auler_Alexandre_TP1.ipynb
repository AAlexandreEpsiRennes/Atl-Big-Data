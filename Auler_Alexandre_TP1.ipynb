{
  "nbformat": 4,
  "nbformat_minor": 0,
  "metadata": {
    "colab": {
      "provenance": []
    },
    "kernelspec": {
      "name": "python3",
      "display_name": "Python 3"
    },
    "language_info": {
      "name": "python"
    }
  },
  "cells": [
    {
      "cell_type": "markdown",
      "source": [
        "Installation de la bibliothèque Spark"
      ],
      "metadata": {
        "id": "m9bYIub1Gmpw"
      }
    },
    {
      "cell_type": "code",
      "execution_count": 10,
      "metadata": {
        "id": "gBIiQtuRDZa4"
      },
      "outputs": [],
      "source": [
        "from pyspark.sql import SparkSession"
      ]
    },
    {
      "cell_type": "code",
      "source": [
        "spark = SparkSession.builder.appName('Introduction').getOrCreate()"
      ],
      "metadata": {
        "id": "l03Sj5BHDfCk"
      },
      "execution_count": 11,
      "outputs": []
    },
    {
      "cell_type": "markdown",
      "source": [
        "Télécharger le CSV"
      ],
      "metadata": {
        "id": "CVkdYN5IGicm"
      }
    },
    {
      "cell_type": "code",
      "source": [
        "from google.colab import files"
      ],
      "metadata": {
        "id": "aJeqalzUEgl2"
      },
      "execution_count": 12,
      "outputs": []
    },
    {
      "cell_type": "code",
      "source": [
        "uploaded = files.upload()"
      ],
      "metadata": {
        "colab": {
          "base_uri": "https://localhost:8080/",
          "height": 74
        },
        "id": "EvSKI-9gFmu6",
        "outputId": "ee58a908-5cf7-4025-c47d-55300d304296"
      },
      "execution_count": 13,
      "outputs": [
        {
          "output_type": "display_data",
          "data": {
            "text/plain": [
              "<IPython.core.display.HTML object>"
            ],
            "text/html": [
              "\n",
              "     <input type=\"file\" id=\"files-1b76f3db-0c4a-47b1-9b2c-9de441ccfb58\" name=\"files[]\" multiple disabled\n",
              "        style=\"border:none\" />\n",
              "     <output id=\"result-1b76f3db-0c4a-47b1-9b2c-9de441ccfb58\">\n",
              "      Upload widget is only available when the cell has been executed in the\n",
              "      current browser session. Please rerun this cell to enable.\n",
              "      </output>\n",
              "      <script>// Copyright 2017 Google LLC\n",
              "//\n",
              "// Licensed under the Apache License, Version 2.0 (the \"License\");\n",
              "// you may not use this file except in compliance with the License.\n",
              "// You may obtain a copy of the License at\n",
              "//\n",
              "//      http://www.apache.org/licenses/LICENSE-2.0\n",
              "//\n",
              "// Unless required by applicable law or agreed to in writing, software\n",
              "// distributed under the License is distributed on an \"AS IS\" BASIS,\n",
              "// WITHOUT WARRANTIES OR CONDITIONS OF ANY KIND, either express or implied.\n",
              "// See the License for the specific language governing permissions and\n",
              "// limitations under the License.\n",
              "\n",
              "/**\n",
              " * @fileoverview Helpers for google.colab Python module.\n",
              " */\n",
              "(function(scope) {\n",
              "function span(text, styleAttributes = {}) {\n",
              "  const element = document.createElement('span');\n",
              "  element.textContent = text;\n",
              "  for (const key of Object.keys(styleAttributes)) {\n",
              "    element.style[key] = styleAttributes[key];\n",
              "  }\n",
              "  return element;\n",
              "}\n",
              "\n",
              "// Max number of bytes which will be uploaded at a time.\n",
              "const MAX_PAYLOAD_SIZE = 100 * 1024;\n",
              "\n",
              "function _uploadFiles(inputId, outputId) {\n",
              "  const steps = uploadFilesStep(inputId, outputId);\n",
              "  const outputElement = document.getElementById(outputId);\n",
              "  // Cache steps on the outputElement to make it available for the next call\n",
              "  // to uploadFilesContinue from Python.\n",
              "  outputElement.steps = steps;\n",
              "\n",
              "  return _uploadFilesContinue(outputId);\n",
              "}\n",
              "\n",
              "// This is roughly an async generator (not supported in the browser yet),\n",
              "// where there are multiple asynchronous steps and the Python side is going\n",
              "// to poll for completion of each step.\n",
              "// This uses a Promise to block the python side on completion of each step,\n",
              "// then passes the result of the previous step as the input to the next step.\n",
              "function _uploadFilesContinue(outputId) {\n",
              "  const outputElement = document.getElementById(outputId);\n",
              "  const steps = outputElement.steps;\n",
              "\n",
              "  const next = steps.next(outputElement.lastPromiseValue);\n",
              "  return Promise.resolve(next.value.promise).then((value) => {\n",
              "    // Cache the last promise value to make it available to the next\n",
              "    // step of the generator.\n",
              "    outputElement.lastPromiseValue = value;\n",
              "    return next.value.response;\n",
              "  });\n",
              "}\n",
              "\n",
              "/**\n",
              " * Generator function which is called between each async step of the upload\n",
              " * process.\n",
              " * @param {string} inputId Element ID of the input file picker element.\n",
              " * @param {string} outputId Element ID of the output display.\n",
              " * @return {!Iterable<!Object>} Iterable of next steps.\n",
              " */\n",
              "function* uploadFilesStep(inputId, outputId) {\n",
              "  const inputElement = document.getElementById(inputId);\n",
              "  inputElement.disabled = false;\n",
              "\n",
              "  const outputElement = document.getElementById(outputId);\n",
              "  outputElement.innerHTML = '';\n",
              "\n",
              "  const pickedPromise = new Promise((resolve) => {\n",
              "    inputElement.addEventListener('change', (e) => {\n",
              "      resolve(e.target.files);\n",
              "    });\n",
              "  });\n",
              "\n",
              "  const cancel = document.createElement('button');\n",
              "  inputElement.parentElement.appendChild(cancel);\n",
              "  cancel.textContent = 'Cancel upload';\n",
              "  const cancelPromise = new Promise((resolve) => {\n",
              "    cancel.onclick = () => {\n",
              "      resolve(null);\n",
              "    };\n",
              "  });\n",
              "\n",
              "  // Wait for the user to pick the files.\n",
              "  const files = yield {\n",
              "    promise: Promise.race([pickedPromise, cancelPromise]),\n",
              "    response: {\n",
              "      action: 'starting',\n",
              "    }\n",
              "  };\n",
              "\n",
              "  cancel.remove();\n",
              "\n",
              "  // Disable the input element since further picks are not allowed.\n",
              "  inputElement.disabled = true;\n",
              "\n",
              "  if (!files) {\n",
              "    return {\n",
              "      response: {\n",
              "        action: 'complete',\n",
              "      }\n",
              "    };\n",
              "  }\n",
              "\n",
              "  for (const file of files) {\n",
              "    const li = document.createElement('li');\n",
              "    li.append(span(file.name, {fontWeight: 'bold'}));\n",
              "    li.append(span(\n",
              "        `(${file.type || 'n/a'}) - ${file.size} bytes, ` +\n",
              "        `last modified: ${\n",
              "            file.lastModifiedDate ? file.lastModifiedDate.toLocaleDateString() :\n",
              "                                    'n/a'} - `));\n",
              "    const percent = span('0% done');\n",
              "    li.appendChild(percent);\n",
              "\n",
              "    outputElement.appendChild(li);\n",
              "\n",
              "    const fileDataPromise = new Promise((resolve) => {\n",
              "      const reader = new FileReader();\n",
              "      reader.onload = (e) => {\n",
              "        resolve(e.target.result);\n",
              "      };\n",
              "      reader.readAsArrayBuffer(file);\n",
              "    });\n",
              "    // Wait for the data to be ready.\n",
              "    let fileData = yield {\n",
              "      promise: fileDataPromise,\n",
              "      response: {\n",
              "        action: 'continue',\n",
              "      }\n",
              "    };\n",
              "\n",
              "    // Use a chunked sending to avoid message size limits. See b/62115660.\n",
              "    let position = 0;\n",
              "    do {\n",
              "      const length = Math.min(fileData.byteLength - position, MAX_PAYLOAD_SIZE);\n",
              "      const chunk = new Uint8Array(fileData, position, length);\n",
              "      position += length;\n",
              "\n",
              "      const base64 = btoa(String.fromCharCode.apply(null, chunk));\n",
              "      yield {\n",
              "        response: {\n",
              "          action: 'append',\n",
              "          file: file.name,\n",
              "          data: base64,\n",
              "        },\n",
              "      };\n",
              "\n",
              "      let percentDone = fileData.byteLength === 0 ?\n",
              "          100 :\n",
              "          Math.round((position / fileData.byteLength) * 100);\n",
              "      percent.textContent = `${percentDone}% done`;\n",
              "\n",
              "    } while (position < fileData.byteLength);\n",
              "  }\n",
              "\n",
              "  // All done.\n",
              "  yield {\n",
              "    response: {\n",
              "      action: 'complete',\n",
              "    }\n",
              "  };\n",
              "}\n",
              "\n",
              "scope.google = scope.google || {};\n",
              "scope.google.colab = scope.google.colab || {};\n",
              "scope.google.colab._files = {\n",
              "  _uploadFiles,\n",
              "  _uploadFilesContinue,\n",
              "};\n",
              "})(self);\n",
              "</script> "
            ]
          },
          "metadata": {}
        },
        {
          "output_type": "stream",
          "name": "stdout",
          "text": [
            "Saving Rotten Tomatoes Movies.csv to Rotten Tomatoes Movies.csv\n"
          ]
        }
      ]
    },
    {
      "cell_type": "markdown",
      "source": [
        "Charger le fichier CSV"
      ],
      "metadata": {
        "id": "O-Qlg8ZuKYkO"
      }
    },
    {
      "cell_type": "code",
      "source": [
        "file_path = \"/content/Rotten Tomatoes Movies.csv\""
      ],
      "metadata": {
        "id": "pDBTkeuhJMvb"
      },
      "execution_count": 14,
      "outputs": []
    },
    {
      "cell_type": "code",
      "source": [
        "movies_df = spark.read.csv(file_path, header=True, inferSchema=True)"
      ],
      "metadata": {
        "id": "KdduWZhxJaIB"
      },
      "execution_count": 15,
      "outputs": []
    },
    {
      "cell_type": "markdown",
      "source": [
        "Voir le fichier CSV"
      ],
      "metadata": {
        "id": "yMLUQZgZJ-UL"
      }
    },
    {
      "cell_type": "code",
      "source": [
        "movies_df.show()"
      ],
      "metadata": {
        "colab": {
          "base_uri": "https://localhost:8080/"
        },
        "id": "dffpUtxbJfQf",
        "outputId": "bfc12970-944e-4662-ded3-c1d197995261"
      },
      "execution_count": 16,
      "outputs": [
        {
          "output_type": "stream",
          "name": "stdout",
          "text": [
            "+--------------------+--------------------+--------------------+--------------------+--------------------+--------------------+--------------------+--------------------+--------------------+--------------------+--------------------+--------------------+--------------------+--------------------+--------------------+---------------+--------------------+\n",
            "|         movie_title|          movie_info|   critics_consensus|              rating|               genre|           directors|             writers|                cast|    in_theaters_date|   on_streaming_date|  runtime_in_minutes|         studio_name|  tomatometer_status|  tomatometer_rating|   tomatometer_count|audience_rating|      audience_count|\n",
            "+--------------------+--------------------+--------------------+--------------------+--------------------+--------------------+--------------------+--------------------+--------------------+--------------------+--------------------+--------------------+--------------------+--------------------+--------------------+---------------+--------------------+\n",
            "|Percy Jackson & t...|A teenager discov...|Though it may see...|                  PG|Action & Adventur...|      Chris Columbus|        Craig Titley|Logan Lerman, Bra...|          2010-02-12|          2010-06-29|                  83|    20th Century Fox|              Rotten|                  49|                 144|             53|              254287|\n",
            "|         Please Give|Kate has a lot on...|Nicole Holofcener...|                   R|              Comedy|   Nicole Holofcener|   Nicole Holofcener|Catherine Keener,...|          2010-04-30|          2010-10-19|                  90|Sony Pictures Cla...|     Certified Fresh|                  86|                 140|             64|               11567|\n",
            "|                  10|\"Blake Edwards' 1...|    upon its release| 10 was one of th...|               Rovi\"|                NULL|                   R|     Comedy, Romance|       Blake Edwards|       Blake Edwards|Dudley Moore, Bo ...|          1979-10-05|          1997-08-27|                 118|         Waner Bros.|          Fresh|                  68|\n",
            "|12 Angry Men (Twe...|\"A Puerto Rican y...|\"\" hopes that his...|  an advertising man| doesn't understa...| #2 (John Fiedler...| anxious not to m...| \"\"go with the fl...| Fonda chips away...| insisting that h...| Twelve Angry Men...| who wrote the 19...| here making his ...| since it cost al...| Twelve Angry Men...|          Rovi\"|Sidney Lumet's fe...|\n",
            "|20,000 Leagues Un...|This 1954 Disney ...|One of Disney's f...|                   G|Action & Adventur...|   Richard Fleischer|         Earl Felton|James Mason, Kirk...|          1954-01-01|          2003-05-20|                 127|              Disney|               Fresh|                  89|                  27|             74|               68860|\n",
            "|         10,000 B.C.|A young outcast f...|With attention st...|               PG-13|Action & Adventur...|     Roland Emmerich|Roland Emmerich, ...|Steven Strait, Ca...|          2008-03-07|          2008-06-24|                 109|Warner Bros. Pict...|              Rotten|                   8|                 148|             37|              411087|\n",
            "|        The 39 Steps|A man in London t...|Packed with twist...|                  NR|Action & Adventur...|    Alfred Hitchcock|Alma Reville, Cha...|Robert Donat, Mad...|          1935-08-01|          1935-06-06|                  87|Gaumont British D...|     Certified Fresh|                  96|                  47|             86|               23827|\n",
            "|        3:10 to Yuma|Desperate for mon...|                NULL|                  NR|Classics, Drama, ...|        Delmer Daves|      Halsted Welles|Glenn Ford, Van H...|          1957-08-07|          2002-04-02|                  92|   Columbia Pictures|               Fresh|                  96|                  27|             78|                9224|\n",
            "|Charly (A Heartbe...|Sam Roberts think...|                NULL|                  PG|Comedy, Drama, Ro...|Adam Thomas Anderegg|Jack Weyland, Jan...|Heather Beers, Ga...|          2002-09-27|          2003-08-01|                 103| Excel Entertainment|              Rotten|                  20|                  10|             87|                4819|\n",
            "|     Abraham Lincoln|To date, this D.W...|                NULL|                  NR|     Classics, Drama|       D.W. Griffith|Gerrit J. Lloyd, ...|Walter Huston, Un...|          1930-11-08|          2008-11-18|                  97|      United Artists|               Fresh|                  90|                  10|             38|                 455|\n",
            "|          Dark Water|Following up on h...|                NULL|               PG-13|Art House & Inter...|        Hideo Nakata|Hideo Hakata, Tak...|Hitomi Kuroki, Ri...|          2002-01-19|          2005-06-21|                 100|    Toho Company Ltd|               Fresh|                  80|                  15|             66|               21459|\n",
            "|         The Accused|\"Simultaneously g...|     Massachusetts.\"|                NULL|                   R|Drama, Mystery & ...|     Jonathan Kaplan|           Tom Topor|Jodie Foster, Kel...|          1988-10-14|          2002-04-16|                 110|  Paramount Pictures|               Fresh|                  91|             22|                  79|\n",
            "|       The Lost City|Andy Garcia stars...|Its heart is in t...|                   R|               Drama|         Andy Garcia|G. Cabrera Infant...|Andy Garcia, Dust...|          2005-09-03|          2006-08-08|                 143|   Magnolia Pictures|              Rotten|                  25|                  83|             64|               25940|\n",
            "|  The Breaking Point|In this taut adap...|                NULL|                  NR|               Drama|      Michael Curtiz|   Ranald MacDougall|John Garfield, Pa...|          1950-10-06|          2017-08-08|                  97|   Warner Home Video|               Fresh|                 100|                   7|             84|                 328|\n",
            "|          Adam's Rib|\"Written by Ruth ...| while Amanda def...| while the Bonner...|           Tom Ewell| and David Wayne ...| and the return t...| it inspired a br...|Matched by Garson...|                  NR|Classics, Comedy,...|        George Cukor|Garson Kanin, Rut...|Spencer Tracy, Ka...|          1949-11-18|     2000-09-19|                 100|\n",
            "|The Bridge of San...|Thornton Wilder's...|Despite an all-st...|                  PG|Art House & Inter...|      Mary McGuckian|      Mary McGuckian|Gabriel Byrne, F....|          2005-06-10|          2005-10-11|                 120|  Fine Line Features|              Rotten|                   4|                  24|             35|                1931|\n",
            "|The Prowler (Cost...|\"Webb Garwood (Va...| and they begin a...| conducted while ...| Susan ends the r...| but Garwood rema...| he shoots him an...|  she buys his story| and the lovers m...| upon discovering...|\"\" they flee to g...| but eventually S...|                NULL|                  PG|Drama, Mystery & ...|   Joseph Losey|Robert Thoeren, D...|\n",
            "|            Criminal|A contemporary ca...|If you saw Nine Q...|                   R|Drama, Mystery & ...|Greggory Jacobs, ...|Gregory Jacobs, F...|John C. Reilly, D...|          2004-09-24|          2005-04-12|                  88|Warner Bros. Pict...|               Fresh|                  69|                 124|             57|                6702|\n",
            "|The Adventures of...|\"Will Vinton, the...| Adventures of Ma...|                NULL|                   G|Action & Adventur...|         Will Vinton|     Susan Shadburne|James Whitmore, M...|          1985-03-01|          2006-01-31|                  86|Eureka Entertainm...|               Fresh|                  80|              5|                  82|\n",
            "|           Deep Blue|This comprehensiv...|Full of visually ...|                   G|Documentary, Spec...|Andy Byatt, Alast...|Alastair Fothergi...|Pierce Brosnan, M...|          2005-06-17|          2006-04-11|                  90|       Miramax Flims|               Fresh|                  67|                  52|             80|                4690|\n",
            "+--------------------+--------------------+--------------------+--------------------+--------------------+--------------------+--------------------+--------------------+--------------------+--------------------+--------------------+--------------------+--------------------+--------------------+--------------------+---------------+--------------------+\n",
            "only showing top 20 rows\n",
            "\n"
          ]
        }
      ]
    },
    {
      "cell_type": "markdown",
      "source": [
        "Nettoyer les données vides ou invalides"
      ],
      "metadata": {
        "id": "AfGjZMj5KoHc"
      }
    },
    {
      "cell_type": "code",
      "source": [
        "movies_cleaned_df = movies_df.dropna()"
      ],
      "metadata": {
        "id": "I_om1vdyJqZ6"
      },
      "execution_count": 17,
      "outputs": []
    },
    {
      "cell_type": "markdown",
      "source": [
        "Convertir les dates dans le format format yyyy-MM-dd"
      ],
      "metadata": {
        "id": "k9X_KBzEK17v"
      }
    },
    {
      "cell_type": "code",
      "source": [
        "from pyspark.sql.functions import to_date"
      ],
      "metadata": {
        "id": "ZK1JSZivMZCb"
      },
      "execution_count": 18,
      "outputs": []
    },
    {
      "source": [
        "from pyspark.sql.functions import to_date, col # Import the 'col' function\n",
        "\n",
        "movies_cleaned_df = movies_cleaned_df.withColumn(\n",
        "    \"in_theaters_date\", to_date(col(\"in_theaters_date\"), \"yyyy-MM-dd\")\n",
        ").withColumn(\n",
        "    \"on_streaming_date\", to_date(col(\"on_streaming_date\"), \"yyyy-MM-dd\")\n",
        ")"
      ],
      "cell_type": "code",
      "metadata": {
        "id": "jhAcpU5TNXie"
      },
      "execution_count": 19,
      "outputs": []
    },
    {
      "cell_type": "markdown",
      "source": [
        "Vérifier les modifications"
      ],
      "metadata": {
        "id": "JTfLgxIPNzRh"
      }
    },
    {
      "cell_type": "code",
      "source": [
        "movies_cleaned_df.select(\"in_theaters_date\", \"on_streaming_date\").show()"
      ],
      "metadata": {
        "colab": {
          "base_uri": "https://localhost:8080/"
        },
        "id": "YZQsis1mO_bZ",
        "outputId": "2c8fb89a-e40e-4ab1-c1d6-17b4b2751a73"
      },
      "execution_count": 20,
      "outputs": [
        {
          "output_type": "stream",
          "name": "stdout",
          "text": [
            "+----------------+-----------------+\n",
            "|in_theaters_date|on_streaming_date|\n",
            "+----------------+-----------------+\n",
            "|      2010-02-12|       2010-06-29|\n",
            "|      2010-04-30|       2010-10-19|\n",
            "|            NULL|             NULL|\n",
            "|      1954-01-01|       2003-05-20|\n",
            "|      2008-03-07|       2008-06-24|\n",
            "|      1935-08-01|       1935-06-06|\n",
            "|      2005-09-03|       2006-08-08|\n",
            "|            NULL|             NULL|\n",
            "|      2005-06-10|       2005-10-11|\n",
            "|      2004-09-24|       2005-04-12|\n",
            "|      2005-06-17|       2006-04-11|\n",
            "|            NULL|             NULL|\n",
            "|      2006-01-13|       2006-04-25|\n",
            "|            NULL|             NULL|\n",
            "|      2006-03-03|       2006-06-27|\n",
            "|      2007-01-12|       2007-05-15|\n",
            "|      2004-08-26|       2005-10-18|\n",
            "|      2006-01-27|       2006-07-04|\n",
            "|      2005-12-23|       2006-04-25|\n",
            "|      2005-08-05|       2005-12-13|\n",
            "+----------------+-----------------+\n",
            "only showing top 20 rows\n",
            "\n"
          ]
        }
      ]
    },
    {
      "cell_type": "markdown",
      "source": [
        "Suppression des valeurs NULL dans les dates (anciens textes transformés)"
      ],
      "metadata": {
        "id": "Y1n6EhFjP7DH"
      }
    },
    {
      "cell_type": "code",
      "source": [
        "date_columns = [\"in_theaters_date\", \"on_streaming_date\"]"
      ],
      "metadata": {
        "id": "lKGyMCRr9fec"
      },
      "execution_count": 23,
      "outputs": []
    },
    {
      "cell_type": "code",
      "source": [
        "movies_cleaned_df = movies_cleaned_df.dropna(subset=date_columns)"
      ],
      "metadata": {
        "id": "NDE51GAW9gCg"
      },
      "execution_count": 24,
      "outputs": []
    },
    {
      "cell_type": "markdown",
      "source": [
        "Vérifier"
      ],
      "metadata": {
        "id": "Iu203mwN9s7Z"
      }
    },
    {
      "cell_type": "code",
      "source": [
        "movies_cleaned_df.select(\"in_theaters_date\", \"on_streaming_date\").show()"
      ],
      "metadata": {
        "colab": {
          "base_uri": "https://localhost:8080/"
        },
        "id": "QQiGVyGF9skI",
        "outputId": "89eb5554-c973-40d2-8396-621dc28106fe"
      },
      "execution_count": 26,
      "outputs": [
        {
          "output_type": "stream",
          "name": "stdout",
          "text": [
            "+----------------+-----------------+\n",
            "|in_theaters_date|on_streaming_date|\n",
            "+----------------+-----------------+\n",
            "|      2010-02-12|       2010-06-29|\n",
            "|      2010-04-30|       2010-10-19|\n",
            "|      1954-01-01|       2003-05-20|\n",
            "|      2008-03-07|       2008-06-24|\n",
            "|      1935-08-01|       1935-06-06|\n",
            "|      2005-09-03|       2006-08-08|\n",
            "|      2005-06-10|       2005-10-11|\n",
            "|      2004-09-24|       2005-04-12|\n",
            "|      2005-06-17|       2006-04-11|\n",
            "|      2006-01-13|       2006-04-25|\n",
            "|      2006-03-03|       2006-06-27|\n",
            "|      2007-01-12|       2007-05-15|\n",
            "|      2004-08-26|       2005-10-18|\n",
            "|      2006-01-27|       2006-07-04|\n",
            "|      2005-12-23|       2006-04-25|\n",
            "|      2005-08-05|       2005-12-13|\n",
            "|      2005-09-30|       2006-01-24|\n",
            "|      2005-09-16|       2006-03-28|\n",
            "|      1986-07-18|       1999-06-01|\n",
            "|      2006-04-07|       2006-08-22|\n",
            "+----------------+-----------------+\n",
            "only showing top 20 rows\n",
            "\n"
          ]
        }
      ]
    },
    {
      "cell_type": "markdown",
      "source": [
        "Filtrer : Les films ayant une note très basse (tomatometer_rating < 20)"
      ],
      "metadata": {
        "id": "v90MQlkbQhAm"
      }
    },
    {
      "cell_type": "code",
      "source": [
        "low_rated_movies = movies_cleaned_df.filter(col(\"tomatometer_rating\") < 20)"
      ],
      "metadata": {
        "id": "Hs2lSgFzQUbK"
      },
      "execution_count": 27,
      "outputs": []
    },
    {
      "cell_type": "markdown",
      "source": [
        "Vérifier"
      ],
      "metadata": {
        "id": "XLcHiao0Qo8L"
      }
    },
    {
      "cell_type": "code",
      "source": [
        "low_rated_movies.show()"
      ],
      "metadata": {
        "colab": {
          "base_uri": "https://localhost:8080/"
        },
        "id": "qAAzV4p7QcyN",
        "outputId": "f4469538-7315-4870-bfce-224827ae2a85"
      },
      "execution_count": 28,
      "outputs": [
        {
          "output_type": "stream",
          "name": "stdout",
          "text": [
            "+--------------------+--------------------+--------------------+------+--------------------+--------------------+--------------------+--------------------+----------------+-----------------+------------------+--------------------+------------------+------------------+-----------------+---------------+--------------+\n",
            "|         movie_title|          movie_info|   critics_consensus|rating|               genre|           directors|             writers|                cast|in_theaters_date|on_streaming_date|runtime_in_minutes|         studio_name|tomatometer_status|tomatometer_rating|tomatometer_count|audience_rating|audience_count|\n",
            "+--------------------+--------------------+--------------------+------+--------------------+--------------------+--------------------+--------------------+----------------+-----------------+------------------+--------------------+------------------+------------------+-----------------+---------------+--------------+\n",
            "|         10,000 B.C.|A young outcast f...|With attention st...| PG-13|Action & Adventur...|     Roland Emmerich|Roland Emmerich, ...|Steven Strait, Ca...|      2008-03-07|       2008-06-24|               109|Warner Bros. Pict...|            Rotten|                 8|              148|             37|        411087|\n",
            "|The Bridge of San...|Thornton Wilder's...|Despite an all-st...|    PG|Art House & Inter...|      Mary McGuckian|      Mary McGuckian|Gabriel Byrne, F....|      2005-06-10|       2005-10-11|               120|  Fine Line Features|            Rotten|                 4|               24|             35|          1931|\n",
            "|         Ultraviolet|In the late 21st ...|An incomprehensib...| PG-13|Action & Adventur...|         Kurt Wimmer|         Kurt Wimmer|Milla Jovovich, C...|      2006-03-03|       2006-06-27|                88|       Sony Pictures|            Rotten|                 8|               83|             30|        279966|\n",
            "|My Best Friend's ...|Smart, beautiful ...|My Best Friend's ...|     R|       Comedy, Drama|       Howard Deutch|Jordan Cahan, Jor...|Dane Cook, Kate H...|      2008-09-18|       2009-01-13|               101|           Lionsgate|            Rotten|                14|               59|             46|         86580|\n",
            "|            Whiteout|A U.S. marshall t...|Kate Beckinsale i...|     R|Action & Adventur...|        Dominic Sena|Jon Hoeber, Erich...|Kate Beckinsale, ...|      2009-09-11|       2010-01-19|               106|Warner Bros. Pict...|            Rotten|                 7|              115|             21|        538847|\n",
            "|         Untraceable|This is the story...|Despite Diane Lan...|     R|Drama, Horror, My...|      Gregory Hoblit|Allison Burnett, ...|Diane Lane, Billy...|      2008-01-25|       2008-05-13|               101|    Sony/Screen Gems|            Rotten|                16|              148|             52|        225115|\n",
            "|       The Informers|A collection of B...|As miserable and ...|     R|Drama, Mystery & ...|       Gregor Jordan|Bret Easton Ellis...|Billy Bob Thornto...|      2009-04-24|       2009-08-25|                98|Senator Internati...|            Rotten|                12|              105|             18|         18503|\n",
            "| The Perfect Holiday|Gabrielle Union, ...|The Perfect Holid...| PG-13|Kids & Family, Ro...|        Lance Rivera|Lance Rivera, Mar...|Morris Chestnut, ...|      2007-12-12|       2008-11-11|                96|     Yari Film Group|            Rotten|                16|               57|             52|        159641|\n",
            "|             Shutter|A newly married c...|Being a remake of...| PG-13|Horror, Mystery &...|     Masayuki Ochiai|         Luke Dawson|Joshua Jackson, R...|      2008-03-19|       2008-07-15|                85|    20th Century Fox|            Rotten|                 9|               65|             33|        241165|\n",
            "|              Priest|Priest, a western...|Sleek and stylish...| PG-13|Action & Adventur...|       Scott Stewart|Scott Stewart, Co...|Paul Bettany, Mag...|      2011-05-13|       2011-08-16|                83|Screen Gems/SONY ...|            Rotten|                15|               99|             46|         86566|\n",
            "|       The Other Man|After many years ...|Despite the best ...|     R|               Drama|        Richard Eyre|Richard Eyre, Cha...|Liam Neeson, Anto...|      2008-12-03|       2009-04-07|                80| Image Entertainment|            Rotten|                15|               39|             18|          4511|\n",
            "|            Old Dogs|Two best friends ...|Its cast tries ha...|    PG|Comedy, Drama, Ki...|Walt Becker, Walt...|David Diamond, Da...|John Travolta, Ro...|      2009-11-25|       2010-03-09|                88|Walt Disney Pictures|            Rotten|                 5|              109|             44|        182878|\n",
            "|                Scar|A young woman bes...|A nasty, witless ...|     R|Drama, Horror, My...|        Jed Weintrob|           Zack Ford|Angela Bettis, Ki...|      2007-05-20|       2006-09-26|                78|             Unknown|            Rotten|                 0|               18|             11|           688|\n",
            "|          The Unborn|Casey Beldon hate...|David Goyer's Unb...| PG-13|Horror, Mystery &...|      David S. Goyer|      David S. Goyer|Odette Annable, G...|      2009-01-09|       2009-07-07|                88|      Rogue Pictures|            Rotten|                10|              118|             30|        831822|\n",
            "|      The Stepfather|A seemingly norma...|This tepid remake...| PG-13|Horror, Mystery &...|    Nelson McCormick|Donald E. Westlak...|Dylan Walsh, Penn...|      2009-10-16|       2010-02-09|               103|         Screen Gems|            Rotten|                11|               62|             34|        982207|\n",
            "| Season of the Witch|Oscar (R) winner ...|Slow, cheap-looki...| PG-13|Action & Adventur...|        Dominic Sena|Bragi Schut, Jr, ...|Nicolas Cage, Ron...|      2011-01-07|       2011-06-28|                92|    Relativity Media|            Rotten|                11|              121|             30|         79825|\n",
            "|          Miss March|Directors Zach Cr...|Even by the modes...|     R|              Comedy|Zach Cregger, Tre...|Zach Cregger, Tre...|Zach Cregger, Tre...|      2009-03-13|       2009-07-28|                90|    20th Century Fox|            Rotten|                 5|               80|             30|         79376|\n",
            "|  An American Affair|Love and politica...|With a plot both ...|     R|Drama, Mystery & ...|      Sebastian Shah|Arshad Shah, Judd...|Corbin Bernsen, J...|      2009-02-27|       2009-07-28|                96|  Screen Media Films|            Rotten|                16|               37|             41|          1722|\n",
            "|              Meteor|\"After a shower o...|Meteor is a flims...|    PG|Action & Adventur...|        Ronald Neame|Stanley Mann, Edm...|Sean Connery, Nat...|      1979-10-19|       2000-03-07|               108|American Internat...|            Rotten|                 5|               20|             12|           932|\n",
            "|           Red Sonja|Red Sonja is unwa...|Dull, poorly dire...| PG-13|Action & Adventur...|   Richard Fleischer|Clive Exton, Geor...|Arnold Schwarzene...|      1985-07-03|       2004-07-06|                89|              MGM/UA|            Rotten|                15|               26|             28|         35204|\n",
            "+--------------------+--------------------+--------------------+------+--------------------+--------------------+--------------------+--------------------+----------------+-----------------+------------------+--------------------+------------------+------------------+-----------------+---------------+--------------+\n",
            "only showing top 20 rows\n",
            "\n"
          ]
        }
      ]
    },
    {
      "cell_type": "markdown",
      "source": [
        "Les films sortis en cinéma après l année 2000"
      ],
      "metadata": {
        "id": "QOOZoSCKRBCh"
      }
    },
    {
      "cell_type": "code",
      "source": [
        "recent_movies = movies_cleaned_df.filter(col(\"on_streaming_date\") >= \"2000-01-01\")"
      ],
      "metadata": {
        "id": "IPMjsuArQwsc"
      },
      "execution_count": 29,
      "outputs": []
    },
    {
      "cell_type": "markdown",
      "source": [
        "Vérifier"
      ],
      "metadata": {
        "id": "NI3liNB1RJ20"
      }
    },
    {
      "cell_type": "code",
      "source": [
        "recent_movies.show()"
      ],
      "metadata": {
        "colab": {
          "base_uri": "https://localhost:8080/"
        },
        "id": "UNCKOsfBRMsJ",
        "outputId": "aa23836f-cb06-455c-932f-793f56dfc831"
      },
      "execution_count": 30,
      "outputs": [
        {
          "output_type": "stream",
          "name": "stdout",
          "text": [
            "+--------------------+--------------------+--------------------+------+--------------------+--------------------+--------------------+--------------------+----------------+-----------------+------------------+--------------------+------------------+------------------+-----------------+---------------+--------------+\n",
            "|         movie_title|          movie_info|   critics_consensus|rating|               genre|           directors|             writers|                cast|in_theaters_date|on_streaming_date|runtime_in_minutes|         studio_name|tomatometer_status|tomatometer_rating|tomatometer_count|audience_rating|audience_count|\n",
            "+--------------------+--------------------+--------------------+------+--------------------+--------------------+--------------------+--------------------+----------------+-----------------+------------------+--------------------+------------------+------------------+-----------------+---------------+--------------+\n",
            "|Percy Jackson & t...|A teenager discov...|Though it may see...|    PG|Action & Adventur...|      Chris Columbus|        Craig Titley|Logan Lerman, Bra...|      2010-02-12|       2010-06-29|                83|    20th Century Fox|            Rotten|                49|              144|             53|        254287|\n",
            "|         Please Give|Kate has a lot on...|Nicole Holofcener...|     R|              Comedy|   Nicole Holofcener|   Nicole Holofcener|Catherine Keener,...|      2010-04-30|       2010-10-19|                90|Sony Pictures Cla...|   Certified Fresh|                86|              140|             64|         11567|\n",
            "|20,000 Leagues Un...|This 1954 Disney ...|One of Disney's f...|     G|Action & Adventur...|   Richard Fleischer|         Earl Felton|James Mason, Kirk...|      1954-01-01|       2003-05-20|               127|              Disney|             Fresh|                89|               27|             74|         68860|\n",
            "|         10,000 B.C.|A young outcast f...|With attention st...| PG-13|Action & Adventur...|     Roland Emmerich|Roland Emmerich, ...|Steven Strait, Ca...|      2008-03-07|       2008-06-24|               109|Warner Bros. Pict...|            Rotten|                 8|              148|             37|        411087|\n",
            "|       The Lost City|Andy Garcia stars...|Its heart is in t...|     R|               Drama|         Andy Garcia|G. Cabrera Infant...|Andy Garcia, Dust...|      2005-09-03|       2006-08-08|               143|   Magnolia Pictures|            Rotten|                25|               83|             64|         25940|\n",
            "|The Bridge of San...|Thornton Wilder's...|Despite an all-st...|    PG|Art House & Inter...|      Mary McGuckian|      Mary McGuckian|Gabriel Byrne, F....|      2005-06-10|       2005-10-11|               120|  Fine Line Features|            Rotten|                 4|               24|             35|          1931|\n",
            "|            Criminal|A contemporary ca...|If you saw Nine Q...|     R|Drama, Mystery & ...|Greggory Jacobs, ...|Gregory Jacobs, F...|John C. Reilly, D...|      2004-09-24|       2005-04-12|                88|Warner Bros. Pict...|             Fresh|                69|              124|             57|          6702|\n",
            "|           Deep Blue|This comprehensiv...|Full of visually ...|     G|Documentary, Spec...|Andy Byatt, Alast...|Alastair Fothergi...|Pierce Brosnan, M...|      2005-06-17|       2006-04-11|                90|       Miramax Flims|             Fresh|                67|               52|             80|          4690|\n",
            "|    Tristan & Isolde|In the medieval l...|Competent but som...| PG-13|Drama, Science Fi...|      Kevin Reynolds|      Dean Georgaris|James Franco, Sop...|      2006-01-13|       2006-04-25|                99|    20th Century Fox|            Rotten|                31|              121|             71|        220945|\n",
            "|         Ultraviolet|In the late 21st ...|An incomprehensib...| PG-13|Action & Adventur...|         Kurt Wimmer|         Kurt Wimmer|Milla Jovovich, C...|      2006-03-03|       2006-06-27|                88|       Sony Pictures|            Rotten|                 8|               83|             30|        279966|\n",
            "|Arthur and the In...|On the heels of h...|Arthur wastes its...|    PG|Animation, Kids &...|          Luc Besson|Luc Besson, Celin...|Freddie Highmore,...|      2007-01-12|       2007-05-15|                94|                 MGM|            Rotten|                22|               91|             56|        134466|\n",
            "|             Eternal|When the wife of ...|Even by the stand...|     R|Horror, Mystery &...|Wilhelm Liebenber...|Wilhelm Liebenber...|Sarah Manninen, C...|      2004-08-26|       2005-10-18|               107|    Regent Releasing|            Rotten|                21|               34|             40|          1294|\n",
            "|         The Matador|A chance meeting ...|This humorously a...|     R|Action & Adventur...|Bob Yari, Richard...|Richard Shepard, ...|Pierce Brosnan, G...|      2006-01-27|       2006-07-04|                97|The Weinstein Com...|   Certified Fresh|                75|              154|             65|         73691|\n",
            "|The Intruder (L'I...|Claire Denis' ell...|The impressionist...|     G|Art House & Inter...|        Claire Denis|Claire Denis, Jea...|Beatrice Dalle, M...|      2005-12-23|       2006-04-25|               129|          Wellspring|             Fresh|                86|               29|             73|          9701|\n",
            "|         Saint Ralph|This is the story...|Saint Ralph is an...| PG-13|       Comedy, Drama|     Michael McGowan|     Michael McGowan|Adam Butcher, Cam...|      2005-08-05|       2005-12-13|                98|                 IDP|             Fresh|                64|               69|             85|          6202|\n",
            "|        Oliver Twist|Director Roman Po...|Polanski's versio...| PG-13|Drama, Kids & Family|      Roman Polanski|      Ronald Harwood|Ben Kingsley, Bar...|      2005-09-30|       2006-01-24|               130|       Sony Pictures|             Fresh|                60|              141|             63|         23278|\n",
            "|                   G|Writer-director C...|Race and class st...|     R|      Drama, Romance|Christopher Scott...|Charles E. Drew, ...|Richard T. Jones,...|      2005-09-16|       2006-03-28|                96|    Slow Hand Cinema|            Rotten|                24|               29|             60|          1140|\n",
            "|     When Do We Eat?|This is the story...|A crass, sitcom-i...|     R|              Comedy|     Salvador Litvak|Salvador Litvak, ...|Michael Lerner, L...|      2006-04-07|       2006-08-22|                86|           ThinkFilm|            Rotten|                42|               38|             68|          1121|\n",
            "|               Dirty|\"In a city ravage...|Dirty is an unori...|     R|               Drama|        Chris Fisher|Chris Fisher, Gil...|Cuba Gooding Jr.,...|      2006-02-24|       2006-04-04|                97|            SNP Inc.|            Rotten|                21|               28|             42|          7321|\n",
            "|           The Motel|Writer-director M...|A coming-of-age d...|    NR|       Comedy, Drama|        Michael Kang|        Michael Kang|Jeffrey Chyau, Su...|      2005-06-28|       2007-01-30|                76|       Palm Pictures|             Fresh|                87|               31|             64|          4038|\n",
            "+--------------------+--------------------+--------------------+------+--------------------+--------------------+--------------------+--------------------+----------------+-----------------+------------------+--------------------+------------------+------------------+-----------------+---------------+--------------+\n",
            "only showing top 20 rows\n",
            "\n"
          ]
        }
      ]
    },
    {
      "cell_type": "markdown",
      "source": [
        "La note moyenne des films par studio"
      ],
      "metadata": {
        "id": "MTY-kzmORlv7"
      }
    },
    {
      "cell_type": "code",
      "source": [
        "average_rating_by_studio = movies_cleaned_df.groupBy(\"studio_name\") \\\n",
        "    .agg({\"tomatometer_rating\": \"avg\"}) \\\n",
        "    .withColumnRenamed(\"avg(tomatometer_rating)\", \"average_rating\")"
      ],
      "metadata": {
        "id": "GCYGDjfbRbrW"
      },
      "execution_count": 31,
      "outputs": []
    },
    {
      "cell_type": "markdown",
      "source": [
        "Vérifier"
      ],
      "metadata": {
        "id": "lTnjJRHFRt1x"
      }
    },
    {
      "cell_type": "code",
      "source": [
        "average_rating_by_studio.show()"
      ],
      "metadata": {
        "colab": {
          "base_uri": "https://localhost:8080/"
        },
        "id": "C0Z2PPkTRodP",
        "outputId": "f06b2527-b613-401f-8f36-929fa0763b59"
      },
      "execution_count": 32,
      "outputs": [
        {
          "output_type": "stream",
          "name": "stdout",
          "text": [
            "+--------------------+------------------+\n",
            "|         studio_name|    average_rating|\n",
            "+--------------------+------------------+\n",
            "|    Relativity Media| 33.32142857142857|\n",
            "|  New World Pictures| 69.66666666666667|\n",
            "|Alluvial Film Com...|              92.0|\n",
            "|       Shout Factory|              65.0|\n",
            "|            El Deseo|              84.0|\n",
            "|Oscilloscope Pict...| 80.36842105263158|\n",
            "|       Cavu Pictures|              72.5|\n",
            "|        Toho Company|              86.0|\n",
            "|  Fine Line Features|60.785714285714285|\n",
            "|           HBO Video| 74.55555555555556|\n",
            "|             42 West|              50.0|\n",
            "|   Empire Film Group|              15.0|\n",
            "|        Disneynature|              77.0|\n",
            "| Perdido Productions|              71.0|\n",
            "|  Big World Pictures|              77.5|\n",
            "|          Wellspring|              67.6|\n",
            "|       October Films|              82.8|\n",
            "|               GKIDS|              88.0|\n",
            "|          NCM Fathom|              74.0|\n",
            "|Electric City Ent...|              82.0|\n",
            "+--------------------+------------------+\n",
            "only showing top 20 rows\n",
            "\n"
          ]
        }
      ]
    },
    {
      "cell_type": "markdown",
      "source": [
        "Note moyenne des films par directeur"
      ],
      "metadata": {
        "id": "lJaOFN-rSKHg"
      }
    },
    {
      "cell_type": "code",
      "source": [
        "average_rating_by_director = movies_cleaned_df.groupBy(\"directors\") \\\n",
        "    .agg({\"tomatometer_rating\": \"avg\"}) \\\n",
        "    .withColumnRenamed(\"avg(tomatometer_rating)\", \"average_rating\")"
      ],
      "metadata": {
        "id": "J9HuOA-kSJwq"
      },
      "execution_count": 33,
      "outputs": []
    },
    {
      "cell_type": "markdown",
      "source": [
        "Vérifier"
      ],
      "metadata": {
        "id": "JbxgZ14gSUP_"
      }
    },
    {
      "cell_type": "code",
      "source": [
        "average_rating_by_director.show()"
      ],
      "metadata": {
        "colab": {
          "base_uri": "https://localhost:8080/"
        },
        "id": "OBoz35urSVA3",
        "outputId": "70b07f57-c9f9-4039-e0a7-bf6c1d951d7e"
      },
      "execution_count": 34,
      "outputs": [
        {
          "output_type": "stream",
          "name": "stdout",
          "text": [
            "+--------------------+------------------+\n",
            "|           directors|    average_rating|\n",
            "+--------------------+------------------+\n",
            "|    Laurence Olivier|              91.0|\n",
            "|        Jim Jarmusch|            74.625|\n",
            "|          John Wells|53.333333333333336|\n",
            "|Harry Elfont, Deb...|              40.0|\n",
            "|         John Milius|              66.0|\n",
            "|          Will Gluck|59.333333333333336|\n",
            "|          Rob Bowman|              26.5|\n",
            "|       Paul Morrison|              24.0|\n",
            "|        Michael Kang|              87.0|\n",
            "|Molly Bingham, St...|              82.0|\n",
            "|       Carlos Brooks|              61.0|\n",
            "|      Chan-wook Park|              77.6|\n",
            "|       Greg Pritikin|              71.0|\n",
            "|        Zak Hilditch|              86.0|\n",
            "|Jon Hurwitz, Hayd...|              45.0|\n",
            "|    Peter Strickland|              89.5|\n",
            "|       Peter Sattler|              75.0|\n",
            "|     Larry Fessenden|              81.5|\n",
            "|         Randy Moore|              56.0|\n",
            "|         Josh Radnor|              70.0|\n",
            "+--------------------+------------------+\n",
            "only showing top 20 rows\n",
            "\n"
          ]
        }
      ]
    },
    {
      "cell_type": "markdown",
      "source": [
        "Diviser les genres multiples d une colonne en genres individuels"
      ],
      "metadata": {
        "id": "wzb4uT1CT0qW"
      }
    },
    {
      "cell_type": "code",
      "source": [
        "from pyspark.sql.functions import explode, split, col\n",
        "\n",
        "# Vérifier si la colonne 'genre' existe)\n",
        "if 'genre' in movies_cleaned_df.columns:\n",
        "    # Si elle existe, on l'utilise\n",
        "    movies_genres_df = movies_cleaned_df.withColumn(\"genre\", explode(split(col(\"genre\"), \",\")))\n",
        "else:\n",
        "    # Si ce n'est pas le cas, warning\n",
        "    print(\"Attention: La coloonne 'genre' n'existe pas.\")\n",
        "    movies_genres_df = movies_cleaned_df.withColumn(\"genre\", explode(split(col(\"genres\"), \",\")))"
      ],
      "metadata": {
        "id": "icsP-FzyUv13"
      },
      "execution_count": 35,
      "outputs": []
    },
    {
      "cell_type": "markdown",
      "source": [
        "Vérifier"
      ],
      "metadata": {
        "id": "hj2GUhsnViM5"
      }
    },
    {
      "cell_type": "code",
      "source": [
        "movies_genres_df.select(\"genre\").show()"
      ],
      "metadata": {
        "colab": {
          "base_uri": "https://localhost:8080/"
        },
        "id": "3RBDh7LGVi_q",
        "outputId": "3b84bc54-4a1b-468c-dfb6-b2e82e69c941"
      },
      "execution_count": 36,
      "outputs": [
        {
          "output_type": "stream",
          "name": "stdout",
          "text": [
            "+--------------------+\n",
            "|               genre|\n",
            "+--------------------+\n",
            "|  Action & Adventure|\n",
            "|              Comedy|\n",
            "|               Drama|\n",
            "| Science Fiction ...|\n",
            "|              Comedy|\n",
            "|  Action & Adventure|\n",
            "|               Drama|\n",
            "|       Kids & Family|\n",
            "|  Action & Adventure|\n",
            "|            Classics|\n",
            "|               Drama|\n",
            "|  Action & Adventure|\n",
            "|            Classics|\n",
            "|  Mystery & Suspense|\n",
            "|               Drama|\n",
            "|Art House & Inter...|\n",
            "|               Drama|\n",
            "| Faith & Spiritua...|\n",
            "|               Drama|\n",
            "|  Mystery & Suspense|\n",
            "+--------------------+\n",
            "only showing top 20 rows\n",
            "\n"
          ]
        }
      ]
    },
    {
      "cell_type": "markdown",
      "source": [
        "Calculer la durée moyenne des films pour chaque genre"
      ],
      "metadata": {
        "id": "mM7ZIHABV6BG"
      }
    },
    {
      "cell_type": "code",
      "source": [
        "average_duration_by_genre = movies_genres_df.groupBy(\"genre\") \\\n",
        "    .agg({\"runtime_in_minutes\": \"avg\"}) \\\n",
        "    .withColumnRenamed(\"avg(runtime_in_minutes)\", \"average_runtime\")"
      ],
      "metadata": {
        "id": "Esw8wm-bV6JX"
      },
      "execution_count": 37,
      "outputs": []
    },
    {
      "cell_type": "markdown",
      "source": [
        "Vérifier"
      ],
      "metadata": {
        "id": "flBhHVXsWDtr"
      }
    },
    {
      "cell_type": "code",
      "source": [
        "average_duration_by_genre.show()"
      ],
      "metadata": {
        "colab": {
          "base_uri": "https://localhost:8080/"
        },
        "id": "HStgCTCgWEai",
        "outputId": "9192bf14-7b22-4f62-c344-e8cbd30d7a70"
      },
      "execution_count": 38,
      "outputs": [
        {
          "output_type": "stream",
          "name": "stdout",
          "text": [
            "+--------------------+------------------+\n",
            "|               genre|   average_runtime|\n",
            "+--------------------+------------------+\n",
            "|  Action & Adventure|109.54932912391476|\n",
            "|             Romance|             105.0|\n",
            "|       Kids & Family| 95.20731707317073|\n",
            "|         Documentary| 98.66666666666667|\n",
            "|             Romance|108.60377358490567|\n",
            "|    Special Interest| 98.75935828877006|\n",
            "|            Classics|120.80898876404494|\n",
            "|               Drama|110.15460992907802|\n",
            "|         Documentary| 95.94252873563218|\n",
            "|              Comedy| 100.1852487135506|\n",
            "|               Drama|109.04821802935011|\n",
            "|       Gay & Lesbian| 99.71428571428571|\n",
            "|Art House & Inter...|107.84421364985164|\n",
            "|  Mystery & Suspense|106.92134831460675|\n",
            "|       Kids & Family|           104.375|\n",
            "|Science Fiction &...|103.61538461538461|\n",
            "|            Classics|112.77464788732394|\n",
            "|          Television| 99.74285714285715|\n",
            "|Musical & Perform...|             113.0|\n",
            "|         Cult Movies| 96.61111111111111|\n",
            "+--------------------+------------------+\n",
            "only showing top 20 rows\n",
            "\n"
          ]
        }
      ]
    }
  ]
}